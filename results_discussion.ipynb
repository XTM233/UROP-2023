{
 "cells": [
  {
   "cell_type": "markdown",
   "metadata": {},
   "source": [
    "# Results and Discussion\n",
    "\n",
    "This notebook describes how we perform hyperparameter search based on training results and how to interpret predictions given by the best model."
   ]
  },
  {
   "cell_type": "code",
   "execution_count": 61,
   "metadata": {
    "tags": []
   },
   "outputs": [],
   "source": [
    "# initialise the workspace\n",
    "workdir = \"C:/Users/XTM23/Documents/@PARA/y2023/309-UROP/test-antiberta\" # when relative path fails\n",
    "run_on_HPC = False # skip some resource/time consuming jobs when this is False"
   ]
  },
  {
   "cell_type": "markdown",
   "metadata": {},
   "source": [
    "## Setup of all the things we need"
   ]
  },
  {
   "cell_type": "code",
   "execution_count": 62,
   "metadata": {},
   "outputs": [],
   "source": [
    "# Some imports \n",
    "from transformers import (\n",
    "    RobertaConfig,\n",
    "    RobertaTokenizer,\n",
    "    RobertaForMaskedLM,\n",
    "    DataCollatorForLanguageModeling,\n",
    "    TrainingArguments,\n",
    "    Trainer,\n",
    ")\n",
    "from datasets import load_dataset\n",
    "import os\n",
    "import torch\n",
    "import pandas as pd\n",
    "import numpy as np\n",
    "%matplotlib inline\n",
    "import matplotlib.pyplot as plt\n",
    "import csv\n",
    "import pickle\n",
    "\n",
    "# Initialise the tokeniser\n",
    "tokenizer = RobertaTokenizer.from_pretrained(\"antibody-tokenizer\")"
   ]
  },
  {
   "cell_type": "code",
   "execution_count": 63,
   "metadata": {},
   "outputs": [],
   "source": [
    "# TODO include these functions in utils, commented\n",
    "# transform json files into dataframe\n",
    "\n",
    "def read_log(filepath):\n",
    "    \"\"\"\n",
    "    Arg:\n",
    "        filepath a string representing path of .json file\n",
    "    \"\"\"\n",
    "    js = pd.read_json(filepath)\n",
    "    s = js[\"best_model_checkpoint\"][0] # the directory of best checkpoint\n",
    "    best_model_checkpoint = int(s.split(\"-\")[-1]) # the number of steps at which the best metric is obtained\n",
    "    lst = filepath.split(\"checkpoint-\")\n",
    "    lst = lst[1].split(\"/\")\n",
    "    total_steps = int(lst[0])\n",
    "    df = pd.json_normalize(js[\"log_history\"])\n",
    "    n = len(df)\n",
    "    # dataframe contianing eval loss\n",
    "    odd_indx = np.array([i for i in range(n) if i%2 == 1])\n",
    "    df1 = df.loc[odd_indx,:]\n",
    "    # dataframe contianing train loss\n",
    "    even_indx = np.array([i for i in range(n) if i%2 == 0])\n",
    "    df2 = df.loc[even_indx,:]\n",
    "    # if use_epoch:\n",
    "    #     df1 = df1[[\"epoch\", \"eval_loss\"]]\n",
    "    #     df2 = df2[[\"epoch\", \"loss\"]]\n",
    "    #     df3 = df1.join(df2.set_index('epoch'), on='epoch')\n",
    "    # else:\n",
    "    df1 = df1[[\"step\", \"eval_loss\"]]\n",
    "    df2 = df2[[\"step\", \"loss\"]]\n",
    "    df3 = df1.join(df2.set_index('step'), on='step')\n",
    "    return df3,js[\"best_metric\"][0],best_model_checkpoint, total_steps\n",
    "\n",
    "def generate_path(i, j, k):\n",
    "    # return path of the latest checkpoint json file for specified model\n",
    "    s = \"-\".join([\"train\",str(i),str(j),str(k)])\n",
    "    lst = os.listdir(\"output/finished/\"+s+\"/test\")\n",
    "    cps = []\n",
    "    for d in lst:\n",
    "        i = int(d.split(\"-\")[-1])\n",
    "        cps.append(i)\n",
    "    cps.sort()\n",
    "    path = \"/\".join([\"output/finished\",s,f\"test/checkpoint-{cps[-1]}\",\"trainer_state.json\"])\n",
    "    return path\n",
    "\n",
    "def save_log(filepath, directory): # NOTE move this to training_helper\n",
    "    import os\n",
    "    import csv\n",
    "    from utils.training_helper import read_log, find_best_checkpoint\n",
    "    \"\"\"\n",
    "    filepath: string, path of the output csv file\n",
    "    directory: string, path of parent directories of all models\n",
    "    \"\"\"\n",
    "    # list all immediate subfolders of the working directory\n",
    "    lst = os.listdir(path=directory)\n",
    "    log = []\n",
    "    for d in lst:\n",
    "        if d.startswith('train-'):\n",
    "            if len(os.listdir(d)) !=0:\n",
    "                if len(os.listdir(d+\"/model\")) != 0:\n",
    "                    # if best model is saved, meaning training has been finished\n",
    "                    [n_head, n_layer, rand_ind] = d.split(\"-\")[1:]\n",
    "                    _,best_metric,best_model_checkpoint, total_steps = read_log(find_best_checkpoint(d))\n",
    "                    log.append([n_head, n_layer, rand_ind, best_metric, best_model_checkpoint, total_steps])\n",
    "\n",
    "    with open('output/log.csv', 'w', newline='') as file:\n",
    "        # by default, it overwrites everything\n",
    "        writer = csv.writer(file)\n",
    "        writer.writerow([\"n_head\", \"n_layer\", \"rand_ind\", \"best_metric\", \"best_model_checkpoint\", \"total_steps\"])\n",
    "        for line in log:\n",
    "            writer.writerow(line)\n",
    "    \n",
    "    return pd.read_csv(filepath)"
   ]
  },
  {
   "cell_type": "code",
   "execution_count": 64,
   "metadata": {},
   "outputs": [],
   "source": [
    "# NOTE unify the method of extracting logs\n",
    "# put all the logs into respective dataframe\n",
    "log_dic = {}\n",
    "for i in range(1,5):\n",
    "    # n_head\n",
    "    for j in range(1,5):\n",
    "        # n_layer\n",
    "        for k in range(10):\n",
    "            df, best_metric, best_model_checkpoint, total_steps = read_log(generate_path(i,j,k))\n",
    "            sub_dic = {\"df\": df, \"best_metric\":best_metric,\"best_model_cp_step\":best_model_checkpoint,\"total_steps\":total_steps}\n",
    "            log_dic[(i,j,k)] = sub_dic\n",
    "# move models into one\n",
    "# rename "
   ]
  },
  {
   "cell_type": "code",
   "execution_count": 65,
   "metadata": {},
   "outputs": [],
   "source": [
    "# create array for hyperparameter search that stores best result for each model\n",
    "df_hs = np.zeros((4,4,10)) \n",
    "for i in range(4):\n",
    "    for j in range(4):\n",
    "        for k in range(10):\n",
    "            df_hs[i,j,k] = log_dic[(i+1,j+1,k)][\"best_metric\"]\n",
    "# get average of each set of hyperparameters over different ways of splitting datasets\n",
    "mat_hs = np.mean(df_hs, axis=2)\n"
   ]
  },
  {
   "cell_type": "code",
   "execution_count": 66,
   "metadata": {},
   "outputs": [],
   "source": [
    "df = pd.DataFrame(mat_hs, columns = ['1 layer','2 layers','3 layers', \"4 layers\"], index = ['1 head', '2 heads', \"3 heads\", \"4 heads\"])"
   ]
  },
  {
   "cell_type": "code",
   "execution_count": 67,
   "metadata": {},
   "outputs": [
    {
     "data": {
      "image/png": "[encoded data removed]",
      "text/plain": [
       "<Figure size 640x480 with 1 Axes>"
      ]
     },
     "metadata": {},
     "output_type": "display_data"
    }
   ],
   "source": [
    "plt.plot(df, label=['1 layer','2 layers','3 layers', \"4 layers\"])\n",
    "plt.title(\"Mean of best metrics against number of heads for different numbers of layers\")\n",
    "plt.legend()\n",
    "plt.show()"
   ]
  },
  {
   "cell_type": "code",
   "execution_count": 68,
   "metadata": {},
   "outputs": [
    {
     "data": {
      "image/png": "[encoded data removed]",
      "text/plain": [
       "<Figure size 640x480 with 1 Axes>"
      ]
     },
     "metadata": {},
     "output_type": "display_data"
    }
   ],
   "source": [
    "df = pd.DataFrame(mat_hs.transpose(), index = ['1 layer','2 layers','3 layers', \"4 layers\"], columns = ['1 head', '2 heads', \"3 heads\", \"4 heads\"])\n",
    "plt.plot(df, label=['1 head', '2 heads', \"3 heads\", \"4 heads\"])\n",
    "plt.title(\"Mean of best metrics against number of layers for different numbers of heads\")\n",
    "plt.legend()\n",
    "plt.show()"
   ]
  },
  {
   "cell_type": "code",
   "execution_count": 69,
   "metadata": {},
   "outputs": [
    {
     "data": {
      "image/png": "[encoded data removed]",
      "text/plain": [
       "<Figure size 640x480 with 2 Axes>"
      ]
     },
     "metadata": {},
     "output_type": "display_data"
    }
   ],
   "source": [
    "fig, ax= plt.subplots()\n",
    "ticks = [1,2,3,4]\n",
    "ax.set_xticks(ticks)\n",
    "ax.set_yticks(ticks)\n",
    "c = ax.pcolor(ticks, ticks, mat_hs, cmap='viridis')\n",
    "ax.set_xlabel(\"layers\")\n",
    "ax.set_ylabel(\"heads\")\n",
    "ax.set_title(\"Mean of best metrics of models averaged\")\n",
    "fig.colorbar(c, ax=ax)\n",
    "plt.show()"
   ]
  },
  {
   "cell_type": "code",
   "execution_count": 70,
   "metadata": {},
   "outputs": [],
   "source": [
    "def list2txt(lst,filepath, overwrite=True): # NOTE change to import\n",
    "    \"\"\"\n",
    "    save content of a list into text file\n",
    "    Args:\n",
    "        lst: a list of tuples\n",
    "        filepath: a string indicating the path of a text file\n",
    "    \"\"\"\n",
    "    # clear file content before writing\n",
    "    if not overwrite:\n",
    "        with open(filepath, 'a') as f:\n",
    "            for line in lst:\n",
    "                f.write(str(line)+\"\\n\")\n",
    "    else:\n",
    "        with open(filepath, 'w') as f:\n",
    "            for line in lst:\n",
    "                f.write(str(line)+\"\\n\")"
   ]
  },
  {
   "cell_type": "markdown",
   "metadata": {},
   "source": [
    "Given the trend observed, we expect models with more layers or more heads would perform better. Therefore, we expand the range of hyperparameters gradually."
   ]
  },
  {
   "cell_type": "code",
   "execution_count": 71,
   "metadata": {},
   "outputs": [],
   "source": [
    "train_array = []\n",
    "# add more sets of parameters\n",
    "for s in [\"6-2\",\"6-3\",\"6-4\",\"6-5\", \"4-5\",\"3-5\",\"2-5\",\"1-5\", \"6-1\"]:\n",
    "    i, j = tuple(s.split(\"-\"))\n",
    "    for k in range(5):\n",
    "        train_array.append((int(i),int(j),k))\n",
    "for s in [\"6-2\",\"6-3\",\"6-4\",\"6-5\", \"4-5\",\"3-5\",\"2-5\",\"1-5\", \"6-1\"]:\n",
    "    i, j = tuple(s.split(\"-\"))\n",
    "    for k in range(5,10):\n",
    "        train_array.append((int(i),int(j),k))\n",
    "for s in [\"6-6\",\"5-6\",\"4-6\",\"3-6\",\"2-6\",\"1-6\",\"8-1\",\"8-2\",\"8-3\",\"8-4\",\"8-5\",\"8-6\"]:\n",
    "    i, j = tuple(s.split(\"-\"))\n",
    "    for k in range(10):\n",
    "        train_array.append((int(i),int(j),k))\n",
    "list2txt(train_array,\"output/training_plan.txt\")"
   ]
  },
  {
   "cell_type": "markdown",
   "metadata": {},
   "source": [
    "## Check specific models"
   ]
  },
  {
   "cell_type": "code",
   "execution_count": 72,
   "metadata": {},
   "outputs": [],
   "source": [
    "def write2file(st, name):\n",
    "    with open(\"./assets/\"+name+'.txt', 'w') as f:\n",
    "        for line in st:\n",
    "            f.write(line+\"\\n\")\n",
    "\n",
    "def load_FASTA(filename):\n",
    "    count = 0\n",
    "    current_seq = ''\n",
    "    all_seqs = []\n",
    "    with open(filename,'r') as f:\n",
    "        for line in f:\n",
    "            if line[0] == '>':\n",
    "                all_seqs.append(current_seq)\n",
    "                current_seq = ''\n",
    "            else:\n",
    "                current_seq+=line[:-1]\n",
    "                count+=1\n",
    "        all_seqs.append(current_seq)\n",
    "        #all_seqs=np.array(map(lambda x: [aadict[y] for y in x],all_seqs[1:]),dtype=int,order=\"c\")\n",
    "    return all_seqs\n",
    "\n",
    "name_fasta='input/sabdab_heavy.txt'\n",
    "seqs_al  =load_FASTA(name_fasta)[1:]\n",
    "\n",
    "# remove gaps in seqs_al\n",
    "seqs=[]\n",
    "for s in range(len(seqs_al)):\n",
    "    seqs.append(''.join([seqs_al[s][i] for i in range(len(seqs_al[s])) if seqs_al[s][i]!='-']))\n",
    "def extract_prob(model):\n",
    "    \"\"\"\n",
    "    return normalised probability predcted by the model\n",
    "    \"\"\"\n",
    "    # NOTE produce seq_al, final_indices\n",
    "    # TODO use built-in prediction for this\n",
    "    probs = []\n",
    "    N = len(seqs_al)\n",
    "    final_indices = range(N)\n",
    "    for s in final_indices:\n",
    "    #for s in range(1,2):\n",
    "        # for a given seq, convert each symbol to a number (position along the alphabet)\n",
    "        # and add a begind/end symbol\n",
    "        # token_ids = tokenizer.encode(seqs[s], return_tensors='pt')\n",
    "        token_ids = tokenizer.encode(seqs_al[s], return_tensors='pt') # to maintain a homogeneous shape\n",
    "        #train\n",
    "        # take the model and calculate the MaskedLMOutput, take its logits\n",
    "        # which are in a matrix with size # tokens x # symbols \n",
    "        ## (note: it's a single-sequence embedding)\n",
    "        out = model(token_ids)\n",
    "        mat = out['logits'].squeeze()\n",
    "        \n",
    "        ## calculate attention of each token, which is a probability conditional on the rest of the sequence\n",
    "        ## to obtain a probability, one normalizes over the column (possible symbols at that position)\n",
    "        ## and flatten everything into a vector of length # tokens x # symbols\n",
    "        prob = torch.nn.functional.softmax(mat, dim=1).detach().numpy()\n",
    "        probs.append(prob)\n",
    "        # add progress indicator\n",
    "        if s%100 == 0:\n",
    "            print(f\"{(s+1)/len(final_indices)} done\")\n",
    "    return probs\n",
    "    \n",
    "def prob_at_site(index, probs):\n",
    "    # index: integer, position at aligned sequences\n",
    "    # return: an array of Nx25\n",
    "    n_seq = len(probs)\n",
    "    output = np.zeros((n_seq,25))\n",
    "    for i in range(n_seq):\n",
    "        output[i,:] = probs[i][index,:]\n",
    "    return output"
   ]
  },
  {
   "cell_type": "markdown",
   "metadata": {},
   "source": [
    "To check whether a model produces reasonable results, we may start by checking if the model has captured the basic feature of aligned heavy chains, for example, the 97th site should always correspond to amino acid \"C\"."
   ]
  },
  {
   "cell_type": "code",
   "execution_count": 73,
   "metadata": {},
   "outputs": [
    {
     "name": "stdout",
     "output_type": "stream",
     "text": [
      "0.0003178639542275906 done\n",
      "0.032104259376986646 done\n",
      "0.0638906547997457 done\n",
      "0.09567705022250476 done\n",
      "0.12746344564526382 done\n",
      "0.1592498410680229 done\n",
      "0.19103623649078194 done\n",
      "0.222822631913541 done\n",
      "0.2546090273363001 done\n",
      "0.2863954227590591 done\n",
      "0.3181818181818182 done\n",
      "0.34996821360457725 done\n",
      "0.3817546090273363 done\n",
      "0.41354100445009534 done\n",
      "0.4453273998728544 done\n",
      "0.4771137952956135 done\n",
      "0.5089001907183726 done\n",
      "0.5406865861411316 done\n",
      "0.5724729815638907 done\n",
      "0.6042593769866497 done\n",
      "0.6360457724094087 done\n",
      "0.6678321678321678 done\n",
      "0.6996185632549269 done\n",
      "0.731404958677686 done\n",
      "0.763191354100445 done\n",
      "0.7949777495232041 done\n",
      "0.8267641449459632 done\n",
      "0.8585505403687221 done\n",
      "0.8903369357914812 done\n",
      "0.9221233312142403 done\n",
      "0.9539097266369994 done\n",
      "0.9856961220597584 done\n"
     ]
    }
   ],
   "source": [
    "# pick an arbitary model\n",
    "model_dir = \"./backup_model/02-01-00\" # NOTE make filepath consistent\n",
    "model = RobertaForMaskedLM.from_pretrained(model_dir)\n",
    "probs = extract_prob(model=model)"
   ]
  },
  {
   "cell_type": "code",
   "execution_count": 74,
   "metadata": {},
   "outputs": [
    {
     "data": {
      "text/plain": [
       "(array([2.000e+00, 0.000e+00, 0.000e+00, 0.000e+00, 0.000e+00, 0.000e+00,\n",
       "        0.000e+00, 0.000e+00, 0.000e+00, 0.000e+00, 0.000e+00, 0.000e+00,\n",
       "        0.000e+00, 0.000e+00, 0.000e+00, 0.000e+00, 0.000e+00, 0.000e+00,\n",
       "        0.000e+00, 0.000e+00, 0.000e+00, 0.000e+00, 0.000e+00, 3.144e+03]),\n",
       " array([5.        , 5.04166667, 5.08333333, 5.125     , 5.16666667,\n",
       "        5.20833333, 5.25      , 5.29166667, 5.33333333, 5.375     ,\n",
       "        5.41666667, 5.45833333, 5.5       , 5.54166667, 5.58333333,\n",
       "        5.625     , 5.66666667, 5.70833333, 5.75      , 5.79166667,\n",
       "        5.83333333, 5.875     , 5.91666667, 5.95833333, 6.        ]),\n",
       " <BarContainer object of 24 artists>)"
      ]
     },
     "execution_count": 74,
     "metadata": {},
     "output_type": "execute_result"
    },
    {
     "data": {
      "image/png": "[encoded data removed]",
      "text/plain": [
       "<Figure size 640x480 with 1 Axes>"
      ]
     },
     "metadata": {},
     "output_type": "display_data"
    }
   ],
   "source": [
    "output = prob_at_site(97, probs=probs)\n",
    "output = np.argmax(output, axis=1)\n",
    "plt.hist(output, bins=24)\n",
    "# TODO try to plot multiple histograms in one graph"
   ]
  },
  {
   "cell_type": "markdown",
   "metadata": {},
   "source": [
    "### Compare actual site frequencies to predicted probabilitie"
   ]
  },
  {
   "cell_type": "code",
   "execution_count": 75,
   "metadata": {},
   "outputs": [],
   "source": [
    "# Compare actual site frequencies to predicted probabilities over all sequencies for one model\n",
    "\n",
    "# build a tokenized array of all sequences/N\n",
    "N = len(seqs_al)\n",
    "seqs_arr = np.zeros((N,128),dtype=int)\n",
    "for i in range(N):\n",
    "    token_ids = tokenizer.encode(seqs_al[i], return_tensors='pt')\n",
    "    seqs_arr[i,:] = token_ids[0,1:-1]\n",
    "site_freq = np.zeros((128, 25))\n",
    "for site in range(128):\n",
    "    tokens, counts = np.unique(seqs_arr[:,site], return_counts=True)\n",
    "    for i in range(len(tokens)):\n",
    "        token = tokens[i]\n",
    "        site_freq[site,token] = counts[i]/N"
   ]
  },
  {
   "cell_type": "code",
   "execution_count": 76,
   "metadata": {},
   "outputs": [
    {
     "ename": "NameError",
     "evalue": "name 'prob_dict' is not defined",
     "output_type": "error",
     "traceback": [
      "\u001b[1;31m---------------------------------------------------------------------------\u001b[0m",
      "\u001b[1;31mNameError\u001b[0m                                 Traceback (most recent call last)",
      "Cell \u001b[1;32mIn[76], line 1\u001b[0m\n\u001b[1;32m----> 1\u001b[0m probs\u001b[38;5;241m=\u001b[39m\u001b[43mprob_dict\u001b[49m[(\u001b[38;5;241m3\u001b[39m, \u001b[38;5;241m3\u001b[39m, \u001b[38;5;241m4\u001b[39m)]\n\u001b[0;32m      2\u001b[0m probs \u001b[38;5;241m=\u001b[39m np\u001b[38;5;241m.\u001b[39marray(probs)\n\u001b[0;32m      3\u001b[0m pred_prob_ave \u001b[38;5;241m=\u001b[39m np\u001b[38;5;241m.\u001b[39mmean(probs, axis\u001b[38;5;241m=\u001b[39m\u001b[38;5;241m0\u001b[39m)[\u001b[38;5;241m1\u001b[39m:\u001b[38;5;241m-\u001b[39m\u001b[38;5;241m1\u001b[39m,:]\n",
      "\u001b[1;31mNameError\u001b[0m: name 'prob_dict' is not defined"
     ]
    }
   ],
   "source": [
    "probs=prob_dict[(3, 3, 4)]\n",
    "probs = np.array(probs)\n",
    "pred_prob_ave = np.mean(probs, axis=0)[1:-1,:]"
   ]
  },
  {
   "cell_type": "code",
   "execution_count": null,
   "metadata": {},
   "outputs": [],
   "source": [
    "x_arr = np.reshape(site_freq,-1)\n",
    "y_arr = np.reshape(pred_prob_ave,-1)"
   ]
  },
  {
   "cell_type": "code",
   "execution_count": null,
   "metadata": {},
   "outputs": [],
   "source": [
    "plt.plot(x_arr,y_arr,\"*\")\n",
    "plt.xlabel(\"Actual site frequecies of all sequences\")\n",
    "plt.ylabel(\"Predicted probabilities by the model\")\n",
    "plt.plot(np.linspace(0,1), np.linspace(0,1))\n",
    "plt.show()"
   ]
  },
  {
   "cell_type": "markdown",
   "metadata": {},
   "source": [
    "## Select best models"
   ]
  },
  {
   "cell_type": "code",
   "execution_count": null,
   "metadata": {},
   "outputs": [],
   "source": [
    "import pandas as pd\n",
    "import numpy as np\n",
    "import matplotlib.pyplot as plt\n",
    "df1 = pd.read_csv(\"log.csv\")\n",
    "df2 = pd.read_csv(\"test_output_full.csv\")\n",
    "merged_df = pd.merge(df1,df2)"
   ]
  },
  {
   "cell_type": "code",
   "execution_count": null,
   "metadata": {
    "tags": []
   },
   "outputs": [],
   "source": [
    "# sort out missing value problem NOTE delete it later\n",
    "df_temp = pd.read_csv(\"test_output.csv\")\n",
    "df_temp = df_temp.dropna(axis=0, how='any')\n",
    "df_missing = pd.read_csv(\"test_output_missing.csv\")\n",
    "df_test = pd.concat([df_temp,df_missing])\n",
    "df_test.to_csv(\"test_output_full.csv\", index=False)"
   ]
  },
  {
   "cell_type": "code",
   "execution_count": null,
   "metadata": {
    "tags": []
   },
   "outputs": [],
   "source": [
    "std_df = df1.groupby(['n_head', 'n_layer'])['best_metric'].std().reset_index()\n",
    "std_df.columns = [\"n_head\",\"n_layer\",\"eval_loss_std\"]"
   ]
  },
  {
   "cell_type": "code",
   "execution_count": null,
   "metadata": {},
   "outputs": [],
   "source": [
    "rslt = df1.groupby(['n_head','n_layer']).aggregate({'best_metric':\n",
    "                                                    'mean'}).reset_index()\n",
    "# rslt = rslt.droplevel(0, axis=1)\n",
    "rslt.columns = [\"n_head\", \"n_layer\", \"mean_eval_loss\"]"
   ]
  },
  {
   "cell_type": "code",
   "execution_count": null,
   "metadata": {
    "tags": []
   },
   "outputs": [],
   "source": [
    "for n_head in [1,2,3,4,6,8]:\n",
    "    data = rslt[(rslt[\"n_head\"]==n_head)]\n",
    "    x_arr = data[\"n_layer\"].to_numpy()\n",
    "    y_arr = data[\"mean_eval_loss\"].to_numpy()\n",
    "    err = std_df[(std_df[\"n_head\"]==n_head)][\"eval_loss_std\"].to_numpy()\n",
    "    plt.errorbar(x_arr,y_arr,err, label=f\"{n_head} heads\")\n",
    "    plt.legend()\n",
    "plt.title(\"Mean eval loss against number of layers with error bars\")\n",
    "plt.show()"
   ]
  },
  {
   "cell_type": "code",
   "execution_count": null,
   "metadata": {
    "tags": []
   },
   "outputs": [],
   "source": [
    "std_df = df2.groupby(['n_head', 'n_layer'])['test_loss'].std().reset_index()\n",
    "std_df.columns = [\"n_head\",\"n_layer\",\"test_loss_std\"]"
   ]
  },
  {
   "cell_type": "code",
   "execution_count": null,
   "metadata": {
    "tags": []
   },
   "outputs": [],
   "source": [
    "rslt = df2.groupby(['n_head','n_layer']).aggregate({'test_loss':\n",
    "                                                    'mean'}).reset_index()\n",
    "# rslt = rslt.droplevel(0, axis=1)\n",
    "rslt.columns = [\"n_head\", \"n_layer\", \"mean_test_loss\"]"
   ]
  },
  {
   "cell_type": "code",
   "execution_count": null,
   "metadata": {
    "tags": []
   },
   "outputs": [],
   "source": [
    "rslt.sort_values(\"mean_test_loss\")"
   ]
  },
  {
   "cell_type": "code",
   "execution_count": null,
   "metadata": {
    "tags": []
   },
   "outputs": [],
   "source": [
    "for n_head in [1,2,3,4,6,8]:\n",
    "    data = rslt[(rslt[\"n_head\"]==n_head)]\n",
    "    x_arr = data[\"n_layer\"].to_numpy()\n",
    "    y_arr = data[\"mean_test_loss\"].to_numpy()\n",
    "    err = std_df[(std_df[\"n_head\"]==n_head)][\"test_loss_std\"].to_numpy()\n",
    "    # plt.errorbar(x_arr,y_arr,err, label=f\"{n_head} heads\")\n",
    "    plt.plot(x_arr,y_arr, label=f\"{n_head} heads\")\n",
    "    plt.legend()\n",
    "plt.title(\"Mean test loss against number of layers with error bars\")\n",
    "plt.show()"
   ]
  },
  {
   "cell_type": "code",
   "execution_count": null,
   "metadata": {
    "tags": []
   },
   "outputs": [],
   "source": [
    "# taking into account standard deviation\n",
    "head_lst = [3,4]\n",
    "for i in range(len(head_lst)):\n",
    "    n_head = head_lst[i]\n",
    "    data = rslt[(rslt[\"n_head\"]==n_head)]\n",
    "    x_arr = data[\"n_layer\"].to_numpy() + (i-1)*0.15\n",
    "    y_arr = data[\"mean_test_loss\"].to_numpy()\n",
    "    err = std_df[(std_df[\"n_head\"]==n_head)][\"test_loss_std\"].to_numpy()\n",
    "    plt.errorbar(x_arr,y_arr,err, label=f\"{n_head} heads\", marker=\"o\",linestyle=\"none\")\n",
    "    # plt.plot(x_arr,y_arr, label=f\"{n_head} heads\")\n",
    "    plt.legend()\n",
    "plt.title(\"Mean test loss against number of layers with error bars\")\n",
    "plt.show()"
   ]
  },
  {
   "cell_type": "code",
   "execution_count": null,
   "metadata": {
    "tags": []
   },
   "outputs": [],
   "source": [
    "result"
   ]
  },
  {
   "cell_type": "code",
   "execution_count": null,
   "metadata": {},
   "outputs": [],
   "source": [
    "merged_df.sort_values(\"test_loss\")"
   ]
  },
  {
   "cell_type": "code",
   "execution_count": null,
   "metadata": {},
   "outputs": [],
   "source": [
    "keys_df = merged_df[['n_head','n_layer']].drop_duplicates()"
   ]
  },
  {
   "cell_type": "code",
   "execution_count": null,
   "metadata": {},
   "outputs": [],
   "source": [
    "result = merged_df.groupby(['n_head','n_layer']).aggregate({'best_metric':'mean','test_loss':['count','mean']}).reset_index()\n",
    "result = result.droplevel(0, axis=1) \n",
    "result.columns = [\"n_head\", \"n_layer\", \"mean_eval_loss\", \"count\", \"mean_test_loss\"]"
   ]
  },
  {
   "cell_type": "code",
   "execution_count": null,
   "metadata": {},
   "outputs": [],
   "source": [
    "result.sort_values(\"mean_test_loss\") # TODO take sd into account"
   ]
  },
  {
   "cell_type": "markdown",
   "metadata": {},
   "source": [
    "We found that the model with 4 heads and 6 layers perform consistently better than other models both in terms of the mean test loss and evaluation loss. Meanwhile, the improvement by increasing from 5 layers to 6 layers is slim. We cease to search over a extended hyperparameter space though the optimal is at the edge."
   ]
  },
  {
   "cell_type": "markdown",
   "metadata": {},
   "source": [
    "## Compare the best MLM with RBM\n",
    "\n",
    "We now compare the predictions given by the best MLM with 4 heads and 6 layers to that from RBM."
   ]
  },
  {
   "cell_type": "code",
   "execution_count": null,
   "metadata": {},
   "outputs": [],
   "source": []
  },
  {
   "cell_type": "markdown",
   "metadata": {},
   "source": [
    "## How randomisation of data splits affect performance of models "
   ]
  },
  {
   "cell_type": "code",
   "execution_count": null,
   "metadata": {},
   "outputs": [],
   "source": [
    "def imshow_single_dataset(i):\n",
    "    mat_hs = df_hs[:,:,i]\n",
    "    fig, ax= plt.subplots()\n",
    "    ticks = [1,2,3,4]\n",
    "    ax.set_xticks(ticks)\n",
    "    ax.set_yticks(ticks)\n",
    "    c = ax.pcolor(ticks, ticks, mat_hs, cmap='viridis')\n",
    "    ax.set_xlabel(\"layers\")\n",
    "    ax.set_ylabel(\"heads\")\n",
    "    ax.set_title(f\"Mean of best metrics of models on the dataset {i}\")\n",
    "    fig.colorbar(c, ax=ax)"
   ]
  },
  {
   "cell_type": "code",
   "execution_count": null,
   "metadata": {},
   "outputs": [],
   "source": [
    "fig, axes = plt.subplots(4,3)\n",
    "fig.set_figheight(20)\n",
    "fig.set_figwidth(15)\n",
    "head_ticks = [1,2,3,4]\n",
    "layer_ticks = [1,2,3,4]\n",
    "for i in range(12):\n",
    "    ax = axes[i//3, i%3]\n",
    "    ax.set_xticks(ticks)\n",
    "    ax.set_yticks(ticks)\n",
    "    ax.set_xlabel(\"layers\")\n",
    "    ax.set_ylabel(\"heads\")\n",
    "    if i == 0:\n",
    "        mat_hs = np.min(df_hs, axis=2)\n",
    "        j,k = np.unravel_index(mat_hs.argmin(),shape=(4,4))\n",
    "        ax.set_title(f\"Accross all datasets, {j+1} heads, {k+1} layers\")\n",
    "    elif i == 1:\n",
    "        mat_hs = np.mean(df_hs, axis=2)\n",
    "        j,k = np.unravel_index(mat_hs.argmin(),shape=(4,4))\n",
    "        ax.set_title(f\"Averaged over datasets, {j+1} heads, {k+1} layers\")     \n",
    "    else:\n",
    "        mat_hs = df_hs[:,:,i-2]\n",
    "        j,k = np.unravel_index(mat_hs.argmin(),shape=(4,4))\n",
    "        ax.set_title(f\"On the dataset {i-2}, {j+1} heads, {k+1} layers\")\n",
    "    c = ax.pcolor(ticks, ticks, mat_hs, cmap='viridis', vmin=np.min(df_hs), vmax=np.max(df_hs))\n",
    "fig.subplots_adjust(right=0.8)\n",
    "cbar_ax = fig.add_axes([0.85, 0.15, 0.05, 0.7])\n",
    "# fig.colorbar(c, ax=ax)\n",
    "fig.colorbar(c, cax=cbar_ax)\n",
    "plt.show()\n",
    "\n",
    "#TODO add error bar for different datasets\n"
   ]
  },
  {
   "cell_type": "markdown",
   "metadata": {},
   "source": [
    "### How randomisation of data splits affect training speed of models\n",
    "\n",
    "Consider models with the same number of heads and number of layers, we compare number of steps required for them to converge when trained with different splits of datasets. Note the random initialisation of parameters is not controlled."
   ]
  },
  {
   "cell_type": "code",
   "execution_count": null,
   "metadata": {},
   "outputs": [],
   "source": [
    "# create array for hyperparameter search that stores best result for each model\n",
    "df_speed = np.zeros((4,4,10)) \n",
    "for i in range(4):\n",
    "    for j in range(4):\n",
    "        for k in range(10):\n",
    "            df_speed[i,j,k] = log_dic[(i+1,j+1,k)][\"best_model_cp_step\"]\n",
    "# get average of each set of hyperparameters over different ways of splitting datasets\n",
    "# mat_hs = np.mean(df_hs, axis=2)"
   ]
  },
  {
   "cell_type": "code",
   "execution_count": null,
   "metadata": {},
   "outputs": [],
   "source": [
    "fig, axes = plt.subplots(4,4)\n",
    "fig.set_figheight(30)\n",
    "fig.set_figwidth(30)\n",
    "lst = []\n",
    "# ticks = [1,2,3,4]\n",
    "for i in range(16):\n",
    "    ax = axes[i//4, i%4]\n",
    "    ax.set_xlabel(\"layers\")\n",
    "    ax.set_ylabel(\"heads\")\n",
    "    mat_speed = df_speed[i//4, i%4,:]\n",
    "    # j,k = np.unravel_index(mat_speed.argmin(),shape=(4,4))\n",
    "    j = mat_speed.argmin()\n",
    "    ax.set_title(f\"On the model {i//4+1} heads, {i%4+1} layers, quickest: dataset {j}\")\n",
    "    ax.scatter(np.arange(10),mat_speed)\n",
    "    lst.append(j)\n",
    "    # c = ax.pcolor(ticks, ticks, mat_speed, cmap='viridis', vmin=np.min(df_speed), vmax=np.max(df_speed))\n",
    "# fig.subplots_adjust(right=0.8)\n",
    "# cbar_ax = fig.add_axes([0.85, 0.15, 0.05, 0.7])\n",
    "# fig.colorbar(c, ax=ax)\n",
    "# fig.colorbar(c, cax=cbar_ax)"
   ]
  },
  {
   "cell_type": "code",
   "execution_count": null,
   "metadata": {},
   "outputs": [],
   "source": [
    "for i in range(16):\n",
    "    mat_speed = df_speed[i//4, i%4,:]\n",
    "    plt.scatter(np.arange(10),mat_speed, label=f\"{i//4}heads,{i%4}layers\")\n",
    "plt.ylabel(\"Number of steps taken\")\n",
    "plt.xlabel(\"Index of datasets\")\n",
    "plt.show()"
   ]
  },
  {
   "cell_type": "markdown",
   "metadata": {},
   "source": [
    "## Inspect more logs"
   ]
  },
  {
   "cell_type": "code",
   "execution_count": null,
   "metadata": {},
   "outputs": [],
   "source": [
    "log_ext = pd.read_csv(\"log.csv\")\n",
    "log_ext.columns"
   ]
  },
  {
   "cell_type": "code",
   "execution_count": null,
   "metadata": {},
   "outputs": [],
   "source": [
    "# create array for hyperparameter search that stores best result for each model\n",
    "df_hs = np.zeros((6,6,10)) \n",
    "def transform_index(i,j,k):\n",
    "    if i < 4:\n",
    "        n_head = i+1\n",
    "    elif i == 4:\n",
    "        n_head = 6\n",
    "    elif i == 5:\n",
    "        n_head = 8\n",
    "    return (n_head, j+1, k)\n",
    "for i in range(6):\n",
    "    for j in range(6):\n",
    "        for k in range(10):\n",
    "            n_head, n_layer, rand_ind = transform_index(i,j,k)\n",
    "            rslt = log_df[(log_df['n_head'] == n_head) &\n",
    "            (log_df['n_layer'] == n_layer) & (log_df['rand_ind'] == k)]\n",
    "            df_hs[i,j,k] = rslt.iloc[0,3]\n",
    "# get average of each set of hyperparameters over different ways of splitting datasets\n",
    "mat_hs = np.mean(df_hs, axis=2)"
   ]
  },
  {
   "cell_type": "code",
   "execution_count": null,
   "metadata": {},
   "outputs": [],
   "source": [
    "# compute average of model performance over different splits of datasets\n",
    "count_dic = {}\n",
    "metric_dic = {}\n",
    "for i in range(6):\n",
    "    for j in range(6):\n",
    "        key = transform_index(i,j, 0)\n",
    "        metric_dic[key[:-1]] = mat_hs[i,j]"
   ]
  },
  {
   "cell_type": "code",
   "execution_count": null,
   "metadata": {},
   "outputs": [],
   "source": [
    "plot_by_head(metric_dic) # TODO reset colormap"
   ]
  },
  {
   "cell_type": "code",
   "execution_count": null,
   "metadata": {},
   "outputs": [],
   "source": [
    "def plot_by_head(dic):\n",
    "    # use layer as x axis\n",
    "    # input a dictionary of the form {(i,j):best_metric}\n",
    "    # head_list = []\n",
    "    # for i,key in enumerate(dic):\n",
    "    #     head_list.append(key[0])\n",
    "    # head_set = set(head_list)\n",
    "    array_dic = {}\n",
    "    for i,key in enumerate(dic):\n",
    "        head = key[0]\n",
    "        [x_array, y_array] = array_dic.get(head,[[],[]])\n",
    "        x_array.append(key[1])\n",
    "        y_array.append(dic[key])\n",
    "        array_dic[head] = [x_array,y_array]\n",
    "    for i,key in enumerate(array_dic):\n",
    "        [x_array, y_array] = array_dic[key]\n",
    "        x_array = np.array(x_array)\n",
    "        y_array = np.array(y_array)\n",
    "        sorted_indices = np.argsort(x_array)\n",
    "        x_sorted = x_array[sorted_indices]\n",
    "        y_sorted = y_array[sorted_indices]\n",
    "        lowest_ind = np.argmin(y_sorted)\n",
    "        lowest_x, lowest_y = x_sorted[lowest_ind], y_sorted[lowest_ind]\n",
    "        plt.plot(x_sorted, y_sorted, label=f\"{key} heads\")\n",
    "        plt.plot(lowest_x,lowest_y,\"x\")\n",
    "    x = [\"1 layer\", \"2 layer\", \"3 layer\", \"4 layer\", \"5 layer\", \"6 layer\"]\n",
    "    xi = list(range(1,len(x)+1))\n",
    "    plt.xticks(xi,x)\n",
    "    plt.legend()\n",
    "    plt.show()\n"
   ]
  },
  {
   "cell_type": "code",
   "execution_count": null,
   "metadata": {},
   "outputs": [],
   "source": [
    "df_hs_ext.columns"
   ]
  },
  {
   "cell_type": "code",
   "execution_count": null,
   "metadata": {},
   "outputs": [],
   "source": [
    "plot_df,_,_,_ = read_log(\"test/checkpoint-58900/trainer_state.json\")"
   ]
  },
  {
   "cell_type": "code",
   "execution_count": null,
   "metadata": {},
   "outputs": [],
   "source": [
    "plt.plot(plot_df[\"step\"], plot_df[\"loss\"], label=\"train_loss\")\n",
    "plt.plot(plot_df[\"step\"], plot_df[\"eval_loss\"], label=\"eval_loss\")\n",
    "plt.legend()\n",
    "plt.title(\"Loss against steps\")"
   ]
  },
  {
   "cell_type": "markdown",
   "metadata": {},
   "source": [
    "## Collate prediction outputs"
   ]
  },
  {
   "cell_type": "code",
   "execution_count": null,
   "metadata": {},
   "outputs": [],
   "source": [
    "# Initialise the tokeniser\n",
    "tokenizer = RobertaTokenizer.from_pretrained(\"antibody-tokenizer\")\n",
    "\n",
    "# Initialise the data collator, which is necessary for batching\n",
    "collator = DataCollatorForLanguageModeling(tokenizer=tokenizer, mlm=True, mlm_probability=0.15)\n",
    "# specify the model used\n",
    "\n",
    "model = RobertaForMaskedLM.from_pretrained(\"./backup_model/02-01-00\")"
   ]
  },
  {
   "cell_type": "code",
   "execution_count": null,
   "metadata": {},
   "outputs": [],
   "source": [
    "def load_FASTA(filename):\n",
    "    count = 0\n",
    "    current_seq = ''\n",
    "    all_seqs = []\n",
    "    with open(filename,'r') as f:\n",
    "        for line in f:\n",
    "            if line[0] == '>':\n",
    "                all_seqs.append(current_seq)\n",
    "                current_seq = ''\n",
    "            else:\n",
    "                current_seq+=line[:-1]\n",
    "                count+=1\n",
    "        all_seqs.append(current_seq)\n",
    "        #all_seqs=np.array(map(lambda x: [aadict[y] for y in x],all_seqs[1:]),dtype=int,order=\"c\")\n",
    "    return all_seqs    \n",
    "\n",
    "# I aligned and prepared a set of ~3000 antibodies from SabDab\n",
    "name_fasta='input/sabdab_heavy.txt'\n",
    "seqs_al  =load_FASTA(name_fasta)[1:]\n",
    "   \n",
    "seqs=[]\n",
    "for s in range(len(seqs_al)):\n",
    "    seqs.append(''.join([seqs_al[s][i] for i in range(len(seqs_al[s])) if seqs_al[s][i]!='-']))"
   ]
  },
  {
   "cell_type": "code",
   "execution_count": null,
   "metadata": {},
   "outputs": [],
   "source": [
    "rand_ind = 0\n",
    "random_seed = rand_ind + 2023\n",
    "# recover test datasets\n",
    "split_ratio = [0.8,0.1,0.1]\n",
    "def write2file(st, name):\n",
    "    with open(f\"./assets_{rand_ind}/\"+name+'.txt', 'w') as f:\n",
    "        for line in st:\n",
    "            f.write(line+\"\\n\")\n",
    "print(\"spliting\")\n",
    "N = len(seqs)\n",
    "np.random.seed(random_seed)\n",
    "split_indices = np.random.permutation(N)\n",
    "train_indices = split_indices[:int(N*split_ratio[0])]\n",
    "# print(train_indices)\n",
    "val_indices = split_indices[int(N*split_ratio[0]):int(N*((split_ratio[0])+split_ratio[1]))]\n",
    "test_indices = split_indices[int(N*((split_ratio[0])+split_ratio[1])):]\n",
    "seqs = np.array(seqs)\n",
    "train_seqs = seqs[train_indices]\n",
    "val_seqs = seqs[val_indices]\n",
    "test_seqs = seqs[test_indices]\n",
    "write2file(train_seqs, \"train_small\")\n",
    "write2file(val_seqs, \"val_small\")\n",
    "write2file(test_seqs, \"test_small\")"
   ]
  },
  {
   "cell_type": "code",
   "execution_count": null,
   "metadata": {},
   "outputs": [],
   "source": [
    "text_datasets = {\n",
    "    \"train\": [f'assets_{rand_ind}/train_small.txt'],\n",
    "    \"eval\": [f'assets_{rand_ind}/val_small.txt'],\n",
    "    \"test\": [f'assets_{rand_ind}/test_small.txt']\n",
    "}\n",
    "\n",
    "dataset = load_dataset(\"text\", data_files=text_datasets)\n",
    "\n",
    "tokenized_dataset = dataset.map(\n",
    "    lambda z: tokenizer(\n",
    "        z[\"text\"],\n",
    "        padding=\"max_length\",\n",
    "        truncation=True,\n",
    "        max_length=150,\n",
    "        return_special_tokens_mask=True,\n",
    "    ),\n",
    "    batched=True,\n",
    "    num_proc=1,\n",
    "    remove_columns=[\"text\"],\n",
    ")"
   ]
  },
  {
   "cell_type": "code",
   "execution_count": null,
   "metadata": {},
   "outputs": [],
   "source": [
    "trainer = Trainer(\n",
    "    model=model,\n",
    "    # args=args,\n",
    "    data_collator=collator,\n",
    "    train_dataset=tokenized_dataset[\"train\"],\n",
    "    eval_dataset=tokenized_dataset[\"eval\"] # TODO inject tokenizer in trainer\n",
    ")\n",
    "output = trainer.predict(tokenized_dataset[\"test\"])\n",
    "test_loss = output[2][\"test_loss\"]"
   ]
  },
  {
   "cell_type": "code",
   "execution_count": null,
   "metadata": {},
   "outputs": [],
   "source": [
    "output[0][0].shape # TODO, why padding increases to 150?"
   ]
  },
  {
   "cell_type": "code",
   "execution_count": null,
   "metadata": {},
   "outputs": [],
   "source": [
    "# TODO first move models to one directory, and rename accordingly\n",
    "def prediction(model):\n",
    "    # input (n_head, n_layer, rand_ind)\n",
    "    # return prediction output\n",
    "def test_loss(model):\n",
    "    # input (n_head, n_layer, rand_ind)\n",
    "    # output a csv row, with columns: n_head, n_layer, rand_ind, test_loss\n",
    "    # besides, save prediction output for future use"
   ]
  },
  {
   "cell_type": "code",
   "execution_count": null,
   "metadata": {
    "tags": []
   },
   "outputs": [],
   "source": [
    "# TODO: run this cell to get probability, a simpler method?\n",
    "probs = []\n",
    "for s in range(N):\n",
    "#for s in range(1,2):\n",
    "    # for a given seq, convert each symbol to a number (position along the alphabet)\n",
    "    # and add a begind/end symbol\n",
    "    # token_ids = tokenizer.encode(seqs[s], return_tensors='pt')\n",
    "    token_ids = tokenizer.encode(seqs_al[s], return_tensors='pt') # to maintain a homogeneous shape\n",
    "    #train\n",
    "    # take the model and calculate the MaskedLMOutput, take its logits\n",
    "    # which are in a matrix with size # tokens x # symbols \n",
    "    ## (note: it's a single-sequence embedding)\n",
    "    out = model(token_ids)\n",
    "    mat = out['logits'].squeeze()\n",
    "    \n",
    "    ## calculate attention of each token, which is a probability conditional on the rest of the sequence\n",
    "    ## to obtain a probability, one normalizes over the column (possible symbols at that position)\n",
    "    ## and flatten everything into a vector of length # tokens x # symbols\n",
    "    prob = torch.nn.functional.softmax(mat, dim=1).detach().numpy()\n",
    "    probs.append(prob)\n",
    "    # add progress indicator\n",
    "    if s%10 == 0:\n",
    "        print(f\"{(s+1)/N} done\")"
   ]
  },
  {
   "cell_type": "code",
   "execution_count": null,
   "metadata": {},
   "outputs": [],
   "source": [
    "np.shape(probs[4])"
   ]
  },
  {
   "cell_type": "code",
   "execution_count": null,
   "metadata": {},
   "outputs": [],
   "source": [
    "entropies_t=[]\n",
    "entropies_p=[]\n",
    "mapping_indices_seq=[]\n",
    "for s in range(len(final_indices)):\n",
    "    token_ids = tokenizer.encode(seqs[final_indices[s]], return_tensors='pt')\n",
    "\n",
    "    seq1 = seqs[final_indices[s]]\n",
    "    seq2 = seqs_al[final_indices_al[s]]\n",
    "\n",
    "    #print(seq1)\n",
    "    #print(seq2)\n",
    "\n",
    "    indices_al = [] # collate indices of symbols on aligned seq that are not gap\n",
    "    i = 0\n",
    "    j = 0\n",
    "    while i < len(seq1) and j < len(seq2): # double pointers\n",
    "        if seq1[i] == seq2[j]:\n",
    "            indices_al.append(j)\n",
    "            i += 1\n",
    "        j += 1\n",
    "        \n",
    "    \n",
    "    ## Check consistent def of indices ##\n",
    "    list1=[]\n",
    "    list2=[]\n",
    "    for i in range(len(seqs[final_indices[s]])):\n",
    "        list1.append(seqs[final_indices[s]][i])\n",
    "        #print(indices_al[i])\n",
    "        ip = indices_al[i]\n",
    "        list2.append(seqs_al[final_indices_al[s]][ip])\n",
    "    #plt.scatter(list1,list2), should be  y=x\n",
    "\n",
    "    \n",
    "    ## single-sequence, single-site entropy ##\n",
    "    ent_t = [] \n",
    "    ent_p = [] \n",
    "    c=0\n",
    "    uu=[]\n",
    "    for i in range(1,len(token_ids.squeeze())-1): # I don't consider end and start of the sequence added by the embedding\n",
    "        ## position ##\n",
    "        a = int(token_ids.squeeze()[i])\n",
    "        uu.append(a)\n",
    "        ## HERE: possible I need to exclude from entropy \n",
    "        ## computation the unphysical variables, like mask, pad, start/end etc\n",
    "        ent_t.append(sum(-(probs[s][i][:])*np.log2(probs[s][i][:]+1/Mb)))\n",
    "        ip = indices_al[c]\n",
    "        #mapping_indices.append(ip)\n",
    "        c+=1\n",
    "        #sym = seqs_al[final_indices_al[s]][ip]\n",
    "        #a = vocab[sym]\n",
    "        ## here too I might need to exclude the unphysical symbols, \n",
    "        ## but they have zero frequency in any case, just I need to \n",
    "        ## re-do the normalization over the new set of symbols!!\n",
    "        ent_p.append(sum(-pwm[ip,pwm[ip,:]>0]*np.log2(pwm[ip,pwm[ip,:]>0])))\n",
    "\n",
    "    ## check consistency ##\n",
    "    str1=''\n",
    "    str2 = str1.join([vocab_inv[u] for u in uu])\n",
    "    #print(seq1==str2)\n",
    "    \n",
    "    entropies_t.append(ent_t)\n",
    "    entropies_p.append(ent_p)\n",
    "    mapping_indices_seq.append(indices_al)\n",
    "    "
   ]
  },
  {
   "cell_type": "code",
   "execution_count": null,
   "metadata": {},
   "outputs": [],
   "source": [
    "pwm[0,pwm[0,:]>0]"
   ]
  },
  {
   "cell_type": "code",
   "execution_count": null,
   "metadata": {},
   "outputs": [],
   "source": [
    "ref=19 # TODO try more different sequences\n",
    "vec1=np.array(entropies_p[ref])\n",
    "vec2=np.array(entropies_t[ref])"
   ]
  },
  {
   "cell_type": "code",
   "execution_count": null,
   "metadata": {},
   "outputs": [],
   "source": [
    "plt.scatter(vec1,vec2)\n",
    "plt.scatter(np.arange(0,max(vec1),0.01),np.arange(0,max(vec1),0.01))"
   ]
  },
  {
   "cell_type": "code",
   "execution_count": null,
   "metadata": {
    "scrolled": true
   },
   "outputs": [],
   "source": [
    "plt.hist(vec1, density=True, bins=20); #CIE\n",
    "plt.hist(vec2,alpha=0.4, density=True, bins=20); #CDE"
   ]
  },
  {
   "cell_type": "code",
   "execution_count": null,
   "metadata": {},
   "outputs": [],
   "source": [
    "b_cdr1n = mapping_indices_seq[ref].index(b_cdr1) # complementary determining matrix\n",
    "e_cdr1n = mapping_indices_seq[ref].index(e_cdr1)\n",
    "b_cdr2n = mapping_indices_seq[ref].index(b_cdr2)\n",
    "e_cdr2n = mapping_indices_seq[ref].index(e_cdr2)\n",
    "b_cdr3n = mapping_indices_seq[ref].index(b_cdr3)\n",
    "e_cdr3n = mapping_indices_seq[ref].index(e_cdr3)\n",
    "\n",
    "\n",
    "import matplotlib.pyplot as plt\n",
    "plt.plot(np.arange(b_cdr1n), vec1[:b_cdr1n], label='F1')\n",
    "plt.plot(np.arange(b_cdr1n,e_cdr1n), vec1[b_cdr1n:e_cdr1n], label='CDR1')\n",
    "plt.plot(np.arange(e_cdr1n, b_cdr2n), vec1[e_cdr1n: b_cdr2n], label='F2')\n",
    "plt.plot(np.arange(b_cdr2n, e_cdr2n), vec1[b_cdr2n:e_cdr2n], label='CDR2')\n",
    "plt.plot(np.arange(e_cdr2n, b_cdr3n), vec1[e_cdr2n: b_cdr3n], label='F2')\n",
    "plt.plot(np.arange(b_cdr3n,e_cdr3n), vec1[b_cdr3n:e_cdr3n], label='CDR3')\n",
    "plt.plot(np.arange(e_cdr3n, len(seqs[ref])), vec1[e_cdr3n:], label='F4')\n",
    "plt.legend()"
   ]
  },
  {
   "cell_type": "code",
   "execution_count": null,
   "metadata": {},
   "outputs": [],
   "source": [
    "plt.scatter(vec1[:b_cdr1n], vec2[:b_cdr1n], label='F1')\n",
    "plt.scatter(vec1[b_cdr1n:e_cdr1n], vec2[b_cdr1n:e_cdr1n], label='CDR1')\n",
    "plt.scatter(vec1[e_cdr1n: b_cdr2n], vec2[e_cdr1n: b_cdr2n], label='F2')\n",
    "plt.scatter(vec1[b_cdr2n:e_cdr2n], vec2[b_cdr2n:e_cdr2n], label='CDR2')\n",
    "plt.scatter(vec1[e_cdr2n: b_cdr3n], vec2[e_cdr2n: b_cdr3n], label='F2')\n",
    "plt.scatter(vec1[b_cdr3n:e_cdr3n], vec2[b_cdr3n:e_cdr3n], label='CDR3')\n",
    "plt.scatter(vec1[e_cdr3n:], vec2[e_cdr3n:], label='F4')\n",
    "plt.legend()"
   ]
  },
  {
   "cell_type": "code",
   "execution_count": null,
   "metadata": {},
   "outputs": [],
   "source": [
    "## Finally, for each position, summing over possible symbols\n",
    "## in a way which is conditional or unconditional on the rest of the sequence\n",
    "## we get the CDE and the CIE\n",
    "cie=[]\n",
    "cde=[]\n",
    "for i in range(NA): ## for each position, we sum over the sequences that have that position ##\n",
    "    relevant_seq = [s for s in range(len(entropies_p)) if i in mapping_indices_seq[s]]\n",
    "    if len(relevant_seq)>0:\n",
    "        ep=0\n",
    "        et=0\n",
    "        for s in relevant_seq:\n",
    "            j = mapping_indices_seq[s].index(i)\n",
    "            ep+=entropies_p[s][j]\n",
    "            et+=entropies_t[s][j]\n",
    "        cie.append(ep/len(relevant_seq))\n",
    "        cde.append(et/len(relevant_seq))\n",
    "    else:\n",
    "        cie.append(0)\n",
    "        cde.append(0)"
   ]
  },
  {
   "cell_type": "code",
   "execution_count": null,
   "metadata": {},
   "outputs": [],
   "source": [
    "vec1=list(cde)\n",
    "vec2=list(cie)\n",
    "\n",
    "plt.scatter(vec1[:b_cdr1], vec2[:b_cdr1], label='F1')\n",
    "plt.scatter(vec1[b_cdr1:e_cdr1], vec2[b_cdr1:e_cdr1], label='CDR1')\n",
    "plt.scatter(vec1[e_cdr1: b_cdr2], vec2[e_cdr1: b_cdr2], label='F2')\n",
    "plt.scatter(vec1[b_cdr2:e_cdr2], vec2[b_cdr2:e_cdr2], label='CDR2')\n",
    "plt.scatter(vec1[e_cdr2: b_cdr3], vec2[e_cdr2: b_cdr3], label='F2')\n",
    "plt.scatter(vec1[b_cdr3:e_cdr3], vec2[b_cdr3:e_cdr3], label='CDR3')\n",
    "plt.scatter(vec1[e_cdr3:], vec2[e_cdr3:], label='F4')\n",
    "plt.scatter(np.arange(0,max(vec1),0.01),np.arange(0,max(vec1),0.01))\n",
    "plt.ylabel(\"Context Independent Entropy\")\n",
    "plt.xlabel(\"Context Dependent Entropy\")\n",
    "plt.legend()"
   ]
  },
  {
   "cell_type": "code",
   "execution_count": null,
   "metadata": {},
   "outputs": [],
   "source": [
    "ent_p_al = np.array(cie)\n",
    "import matplotlib.pyplot as plt\n",
    "plt.plot(np.arange(b_cdr1), ent_p_al[:b_cdr1], label='F1')\n",
    "plt.plot(np.arange(b_cdr1,e_cdr1), ent_p_al[b_cdr1:e_cdr1], label='CDR1')\n",
    "plt.plot(np.arange(e_cdr1, b_cdr2), ent_p_al[e_cdr1: b_cdr2], label='F2')\n",
    "plt.plot(np.arange(b_cdr2,e_cdr2), ent_p_al[b_cdr2:e_cdr2], label='CDR2')\n",
    "plt.plot(np.arange(e_cdr2, b_cdr3), ent_p_al[e_cdr2: b_cdr3], label='F2')\n",
    "plt.plot(np.arange(b_cdr3,e_cdr3), ent_p_al[b_cdr3:e_cdr3], label='CDR3')\n",
    "plt.plot(np.arange(e_cdr3, NA), ent_p_al[e_cdr3:], label='F4')\n",
    "plt.legend()"
   ]
  },
  {
   "cell_type": "code",
   "execution_count": null,
   "metadata": {
    "tags": []
   },
   "outputs": [],
   "source": [
    "# rewrite a loss function\n",
    "# class CustomTrainer(Trainer):\n",
    "#     def compute_loss(self, model, inputs, return_outputs=False):\n",
    "#         labels = tokenizer.encode(inputs, return_tensors=\"pt\") # get token id for input sequence\n",
    "#         # forward pass\n",
    "#         outputs = model(**inputs)\n",
    "#         token_ids = tokenizer.encode(seqs[s], return_tensors='pt')\n",
    "#     #train\n",
    "#     # take the model and calculate the MaskedLMOutput, take its logits\n",
    "#     # which are in a matrix with size # tokens x # symbols \n",
    "#     ## (note: it's a single-sequence embedding)\n",
    "#     out = trainer.model(token_ids)\n",
    "#         logits = outputs.get(\"logits\")\n",
    "#         # compute custom loss (suppose one has 3 labels with different weights)\n",
    "#         loss_fct = nn.CrossEntropyLoss(weight=torch.tensor([1.0, 2.0, 3.0], device=model.device))\n",
    "#         loss = loss_fct(logits.view(-1, self.model.config.num_labels), labels.view(-1))\n",
    "#         # loss = nn.CrossEntropyLoss()\n",
    "#         return (loss, outputs) if return_outputs else loss"
   ]
  },
  {
   "cell_type": "markdown",
   "metadata": {},
   "source": [
    "## Direct Coupling Analysis\n",
    "\n",
    "<https://github.com/KIT-MBS/pydca/tree/master>"
   ]
  },
  {
   "cell_type": "code",
   "execution_count": null,
   "metadata": {},
   "outputs": [],
   "source": [
    "def slice_couplings(couplings = None, site_pair=None, num_site_states=None, seqs_len = None):\n",
    "    \"\"\"Constructs couplings array suitable for computing two-site-model fields as well \n",
    "    as DI scores. \n",
    "\n",
    "    Parameters\n",
    "    ----------\n",
    "        couplings : np.array\n",
    "            A 1 array of couplings excluding gap state couplings\n",
    "        site_pair : tuple\n",
    "            Site pair (i, j) such that j > i with o <= i < seqs_len\n",
    "        num_site_states : int \n",
    "            Number of site states for sequence \n",
    "        seqs_len : int \n",
    "            Length of sequences in MSA data \n",
    "    \"\"\"\n",
    "    i, j = site_pair[0], site_pair[1]\n",
    "    q = num_site_states\n",
    "    qm1 = q - 1\n",
    "    pair_loc = int((seqs_len * (seqs_len - 1)/2) - (seqs_len - i) * ((seqs_len - i) - 1)/2  + j  - i - 1)\n",
    "    start_indx = pair_loc * qm1 * qm1  \n",
    "    end_indx = start_indx + qm1 * qm1\n",
    "    couplings_ij = np.zeros((q, q), dtype = np.float64)\n",
    "    couplings_tmp = couplings[start_indx:end_indx]\n",
    "    couplings_ij[:q-1, :q-1]  = np.reshape(couplings_tmp, shape = (q-1, q-1))\n",
    "    return couplings_ij "
   ]
  },
  {
   "cell_type": "markdown",
   "metadata": {},
   "source": [
    "## Interpret results (duplicate)"
   ]
  },
  {
   "cell_type": "code",
   "execution_count": null,
   "metadata": {},
   "outputs": [],
   "source": [
    "# slight discrepancy in naming\n",
    "# train-i-j-k -> {n_head}-{n_layer}-{rand_ind}\n",
    "# model name: n_layer, n_head,rand_ind"
   ]
  },
  {
   "cell_type": "code",
   "execution_count": null,
   "metadata": {},
   "outputs": [],
   "source": [
    "# transform json files into dataframe\n",
    "\n",
    "def read_log(filepath):\n",
    "    js = pd.read_json(filepath)\n",
    "    s = js[\"best_model_checkpoint\"][0] # the directory of best checkpoint\n",
    "    best_model_checkpoint = int(s.split(\"-\")[-1]) # the number of steps at which the best metric is obtained\n",
    "    lst = filepath.split(\"checkpoint-\")\n",
    "    lst = lst[1].split(\"/\")\n",
    "    total_steps = int(lst[0])\n",
    "    df = pd.json_normalize(js[\"log_history\"])\n",
    "    n = len(df)\n",
    "    # dataframe contianing eval loss\n",
    "    odd_indx = np.array([i for i in range(n) if i%2 == 1])\n",
    "    df1 = df.loc[odd_indx,:]\n",
    "    # dataframe contianing train loss\n",
    "    even_indx = np.array([i for i in range(n) if i%2 == 0])\n",
    "    df2 = df.loc[even_indx,:]\n",
    "\n",
    "    df1 = df1[[\"step\", \"eval_loss\"]]\n",
    "    df2 = df2[[\"step\", \"loss\"]]\n",
    "    df3 = df1.join(df2.set_index('step'), on='step')\n",
    "    return df3,js[\"best_metric\"][0],best_model_checkpoint, total_steps"
   ]
  },
  {
   "cell_type": "code",
   "execution_count": null,
   "metadata": {},
   "outputs": [],
   "source": [
    "path = generate_path(1,2,0)\n",
    "plot_df, best_metric,best_model_checkpoint,total_steps = read_log(path)"
   ]
  },
  {
   "cell_type": "code",
   "execution_count": null,
   "metadata": {},
   "outputs": [],
   "source": [
    "unfinished_2 = []\n",
    "finished2 = []\n",
    "for i in range(1,5):\n",
    "    for j in range(1,5):\n",
    "        for k in range(10):\n",
    "            try:\n",
    "                _, _,best_model_checkpoint,total_steps = read_log(generate_path(i,j,k))\n",
    "                if total_steps < best_model_checkpoint + 500:\n",
    "                    print((i,j,k))\n",
    "                    unfinished_2.append((i,j,k))\n",
    "            except FileNotFoundError:\n",
    "                print(\"insided finished 02\")\n",
    "                finished2.append((i,j,k))"
   ]
  },
  {
   "cell_type": "code",
   "execution_count": null,
   "metadata": {},
   "outputs": [],
   "source": [
    "def list2txt(lst,filepath):\n",
    "    \"\"\"\n",
    "    save content of a list into text file\n",
    "    Args:\n",
    "        lst: a list of tuples\n",
    "        filepath: a string indicating the path of a text file\n",
    "    \"\"\"\n",
    "    # clear file content before writing\n",
    "    if os.path.isfile(filepath):\n",
    "        open(filepath, 'w').close()\n",
    "    with open(filepath, 'w') as f:\n",
    "        for line in lst:\n",
    "            f.write(str(line)+\"\\n\")"
   ]
  },
  {
   "cell_type": "code",
   "execution_count": null,
   "metadata": {},
   "outputs": [],
   "source": [
    "list2txt(unfinished_2,\"round_11.txt\")"
   ]
  },
  {
   "cell_type": "code",
   "execution_count": null,
   "metadata": {},
   "outputs": [],
   "source": [
    "for m in range(len(unfinished_2)):\n",
    "    i,j,k = unfinished_2[m]\n",
    "    s = \"-\".join([\"train\",str(i),str(j),str(k)])\n",
    "    train_path = \"finished/\"+s\n",
    "    new_train_path = f\"./train-11-{m+1}\"\n",
    "    os.rename(train_path, new_train_path)"
   ]
  },
  {
   "cell_type": "code",
   "execution_count": null,
   "metadata": {},
   "outputs": [],
   "source": [
    "for m in range(len(unfinished_2)):\n",
    "    i,j,k = unfinished_2[m]\n",
    "    modelname = os.listdir(f\"./train-11-{m+1}/model\")[0]\n",
    "    print(modelname)\n",
    "    train_path = f\"./train-11-{m+1}/model/\"+modelname\n",
    "    new_train_path = f\"./backup_model/{modelname}\"\n",
    "    os.rename(train_path, new_train_path)"
   ]
  },
  {
   "cell_type": "code",
   "execution_count": null,
   "metadata": {},
   "outputs": [],
   "source": [
    "plt.plot(plot_df[[\"step\"]], plot_df[[\"loss\", \"eval_loss\"]], label=[\"train_loss\",\"eval_loss\"])\n",
    "plt.plot(best_model_checkpoint,best_metric,\"x\", label=\"best_model\") # Note each eval is not evenly spread over steps\n",
    "plt.title(\"Performance of 1 layer 1 head model\")\n",
    "plt.xlabel(\"Steps\")\n",
    "plt.ylabel(\"Loss\")\n",
    "plt.legend()\n",
    "plt.show()"
   ]
  },
  {
   "cell_type": "code",
   "execution_count": null,
   "metadata": {},
   "outputs": [],
   "source": [
    "def training_report():\n",
    "    train_finished = []\n",
    "    continue_training = []\n",
    "    for i in range(1,5):\n",
    "    # i is the number of heads\n",
    "        for j in range(1,5):\n",
    "            #j is the number of layers\n",
    "            for k in range(2):\n",
    "                # k is the index of split datasets\n",
    "                if (i-1)*8+(j-1)*2+k+1 not in [1,2,7,17,19,25]:\n",
    "                    jspath = generate_path(i,j,k+1)\n",
    "                    plot_df, best_metric, best_model_checkpoint,total_steps = read_log(jspath)\n",
    "                    eval_loss = np.array(plot_df[[\"eval_loss\"]])\n",
    "                    if earlystop_detection(eval_loss):\n",
    "                        print(f\"{i} heads {j} layers model {k} early stopped at {best_metric}\")\n",
    "                        train_finished.append((i,j,k))\n",
    "                    else:\n",
    "                        print(best_model_checkpoint,total_steps)\n",
    "                        print(f\"{i} heads {j} layers model {k} more training required\")\n",
    "                        continue_training.append((i,j,k))\n",
    "\n",
    "    return train_finished,continue_training"
   ]
  },
  {
   "cell_type": "code",
   "execution_count": null,
   "metadata": {},
   "outputs": [],
   "source": [
    "jspath = generate_path(1,3,2)\n",
    "plot_df, best_metric, best_model_checkpoint, total_steps = read_log(jspath)\n",
    "lst = jspath.split(\"checkpoint-\")\n",
    "lst = lst[1].split(\"/\")\n",
    "total_steps = int(lst[0])"
   ]
  },
  {
   "cell_type": "markdown",
   "metadata": {},
   "source": [
    "## Compare with RBM"
   ]
  },
  {
   "cell_type": "code",
   "execution_count": null,
   "metadata": {},
   "outputs": [],
   "source": [
    "model = RobertaForMaskedLM.from_pretrained(\"model-4-6-1\")\n",
    "probs= extract_prob(model)"
   ]
  },
  {
   "cell_type": "code",
   "execution_count": null,
   "metadata": {},
   "outputs": [],
   "source": [
    "# Open the file in binary mode\n",
    "import pickle\n",
    "with open('output/prob.pkl', 'rb') as file:\n",
    "      \n",
    "    # Call load method to deserialze\n",
    "    probs_rbm = pickle.load(file)\n",
    "\n",
    "# with open(\"output/output-4-6-1.pkl\", \"rb\") as file:\n",
    "#     probs_mlm = pickle.load(file)"
   ]
  },
  {
   "cell_type": "code",
   "execution_count": null,
   "metadata": {},
   "outputs": [],
   "source": [
    "np.array(probs_rbm).shape"
   ]
  },
  {
   "cell_type": "code",
   "execution_count": null,
   "metadata": {},
   "outputs": [],
   "source": [
    "voab_mlm = {{\n",
    "  \"<s>\": 0,\n",
    "  \"</s>\": 2,\n",
    "  \"<pad>\": 1,\n",
    "  \"<unk>\": 3,\n",
    "  \"<mask>\": 4,\n",
    "  \"A\": 5,\n",
    "  \"C\": 6,\n",
    "  \"D\": 7,\n",
    "  \"E\": 8,\n",
    "  \"F\": 9,\n",
    "  \"G\": 10,\n",
    "  \"H\": 11,\n",
    "  \"I\": 12,\n",
    "  \"K\": 13,\n",
    "  \"L\": 14,\n",
    "  \"M\": 15,\n",
    "  \"N\": 16,\n",
    "  \"P\": 17,\n",
    "  \"Q\": 18,\n",
    "  \"R\": 19,\n",
    "  \"S\": 20,\n",
    "  \"T\": 21,\n",
    "  \"V\": 22,\n",
    "  \"W\": 23,\n",
    "  \"Y\": 24\n",
    "}}"
   ]
  },
  {
   "cell_type": "code",
   "execution_count": null,
   "metadata": {},
   "outputs": [],
   "source": [
    "vocab_rbm = {'A': 0,\n",
    " 'C': 1,\n",
    " 'D': 2,\n",
    " 'E': 3,\n",
    " 'F': 4,\n",
    " 'G': 5,\n",
    " 'H': 6,\n",
    " 'I': 7,\n",
    " 'K': 8,\n",
    " 'L': 9,\n",
    " 'M': 10,\n",
    " 'N': 11,\n",
    " 'P': 12,\n",
    " 'Q': 13,\n",
    " 'R': 14,\n",
    " 'S': 15,\n",
    " 'T': 16,\n",
    " 'V': 17,\n",
    " 'W': 18,\n",
    " 'Y': 19,\n",
    " '-': 20}"
   ]
  },
  {
   "cell_type": "code",
   "execution_count": null,
   "metadata": {},
   "outputs": [],
   "source": [
    "probs_rbm = np.array(probs_rbm)[:,:,:-1]"
   ]
  },
  {
   "cell_type": "code",
   "execution_count": null,
   "metadata": {},
   "outputs": [],
   "source": [
    "probs_mlm = np.array(probs)\n",
    "probs_mlm = probs_mlm[:,1:-1,5:]\n",
    "probs_rbm = np.array(probs_rbm)[:,:,:-1]"
   ]
  },
  {
   "cell_type": "code",
   "execution_count": null,
   "metadata": {},
   "outputs": [],
   "source": [
    "probs_rbm.shape"
   ]
  },
  {
   "cell_type": "code",
   "execution_count": null,
   "metadata": {},
   "outputs": [],
   "source": [
    "ref  = 40\n",
    "diff = probs_mlm[ref]-probs_rbm[ref]"
   ]
  },
  {
   "cell_type": "code",
   "execution_count": null,
   "metadata": {},
   "outputs": [],
   "source": [
    "heatmap = plt.pcolor(np.abs(diff)) \n",
    "plt.colorbar(heatmap)"
   ]
  },
  {
   "cell_type": "code",
   "execution_count": null,
   "metadata": {},
   "outputs": [],
   "source": [
    "fig, axes = plt.subplots(1,2)\n",
    "for i in range(2):\n",
    "    ax = axes[i]\n",
    "    if i == 0:\n",
    "        heatmap = ax.pcolor(probs_rbm[ref]) \n",
    "        plt.colorbar(heatmap)\n",
    "        ax.set_title(\"Prediction by RBM\")\n",
    "    else:\n",
    "        heatmap = plt.pcolor(probs_mlm[ref]) \n",
    "        plt.colorbar(heatmap)\n",
    "        ax.set_title(\"Prediction by MLM\")\n"
   ]
  },
  {
   "cell_type": "markdown",
   "metadata": {},
   "source": [
    "### Check specific sites(duplicate)"
   ]
  },
  {
   "cell_type": "code",
   "execution_count": null,
   "metadata": {},
   "outputs": [],
   "source": [
    "def prob_at_site(index, probs=probs_mlm):\n",
    "    # index: integer, position at aligned sequences\n",
    "    # return: an array of n_seqx25\n",
    "    n_seq = len(probs)\n",
    "    output = np.zeros((n_seq,20))\n",
    "    for i in range(n_seq):\n",
    "        output[i,:] = probs_mlm[i][index,:]\n",
    "    return output"
   ]
  },
  {
   "cell_type": "code",
   "execution_count": null,
   "metadata": {},
   "outputs": [],
   "source": [
    "output = prob_at_site(97)\n",
    "output = np.argmax(output, axis=1)\n",
    "plt.hist(output, bins=20)"
   ]
  },
  {
   "cell_type": "markdown",
   "metadata": {},
   "source": [
    "## Extract attentions"
   ]
  },
  {
   "cell_type": "code",
   "execution_count": null,
   "metadata": {},
   "outputs": [],
   "source": [
    "model = RobertaForMaskedLM.from_pretrained(\"./model-4-6-1\")\n",
    "seq = \"EEQVLESGGGLVKPGGSLRLSCAASGFTF-SPYSVFWVRQAPGKGLEWVSSINSDSTYKYYADSVKGRFTISRDNAENSIFLQMNSLRAEDTAVYYCARDRSYYAFSSLSDYYYGLDVWGQGTLVTVS\"\n",
    "# Fix n_layers\n",
    "# Fix n_heads TODO\n",
    "# TODO quantative patterns, check against specific sites"
   ]
  },
  {
   "cell_type": "code",
   "execution_count": null,
   "metadata": {},
   "outputs": [],
   "source": [
    "# TODO save this result to file\n",
    "attentions_list = []\n",
    "for i in range(len(seqs_al)):\n",
    "    token_ids = tokenizer.encode(seqs_al[i], return_tensors='pt')\n",
    "    out = model(token_ids)\n",
    "    # attentions = out.attentions[0][0][0] # 130x130 array\n",
    "    attentions_list.append(out.attentions)\n",
    "    print(i)"
   ]
  },
  {
   "cell_type": "code",
   "execution_count": null,
   "metadata": {
    "tags": []
   },
   "outputs": [],
   "source": [
    "# TODO save this result to file\n",
    "token_ids = tokenizer.encode(seq, return_tensors='pt')\n",
    "out = model(token_ids)\n",
    "attention = out.attentions[0][0].detach().numpy()\n",
    "plt.imshow(attention[0])\n",
    "plt.show()"
   ]
  },
  {
   "cell_type": "code",
   "execution_count": null,
   "metadata": {},
   "outputs": [],
   "source": [
    "ref = 67\n",
    "token_ids = tokenizer.encode(seqs_al[ref], return_tensors=\"pt\")\n",
    "out = model(token_ids)\n",
    "mat = out.attentions[0][0]\n",
    "mat = mat.detach().numpy()\n",
    "plt.imshow(mat[0])\n",
    "plt.show()"
   ]
  },
  {
   "cell_type": "code",
   "execution_count": null,
   "metadata": {
    "tags": []
   },
   "outputs": [],
   "source": [
    "mean_attention = np.mean(mat[0], axis=0)\n",
    "top_site = np.argsort(mean_attention)[::-1]\n",
    "top_site"
   ]
  },
  {
   "cell_type": "code",
   "execution_count": null,
   "metadata": {
    "tags": []
   },
   "outputs": [],
   "source": [
    "# TODO save this result to file\n",
    "token_ids = tokenizer.encode(seq, return_tensors='pt')\n",
    "out = model(token_ids)\n",
    "mat = out.attentions[0][0].detach().numpy()\n",
    "plt.imshow(mat[1])\n",
    "plt.show()"
   ]
  },
  {
   "cell_type": "code",
   "execution_count": null,
   "metadata": {
    "tags": []
   },
   "outputs": [],
   "source": [
    "mean_attention = np.mean(mat[2], axis=0)\n",
    "top_site = np.argsort(mean_attention)[::-1]\n",
    "top_site"
   ]
  },
  {
   "cell_type": "code",
   "execution_count": null,
   "metadata": {},
   "outputs": [],
   "source": [
    "N = len(seqs_al)\n",
    "mat_all = np.zeros((N, 4, 130, 130))\n",
    "for i in range(N):\n",
    "    token_ids = tokenizer.encode(seqs_al[i], return_tensors=\"pt\")\n",
    "    out = model(token_ids)\n",
    "    mat = out.attentions[0][0]\n",
    "    mat = mat.detach().numpy()\n",
    "    mat_all[i,:,:,:] = mat\n",
    "    print(i)"
   ]
  },
  {
   "cell_type": "code",
   "execution_count": null,
   "metadata": {},
   "outputs": [],
   "source": [
    "plt.imshow(mat[0])"
   ]
  },
  {
   "cell_type": "code",
   "execution_count": null,
   "metadata": {},
   "outputs": [],
   "source": [
    "attentions_list = np.array(attentions_list)"
   ]
  },
  {
   "cell_type": "code",
   "execution_count": null,
   "metadata": {},
   "outputs": [],
   "source": [
    "mat = np.mean(attentions_list, axis=0)"
   ]
  },
  {
   "cell_type": "code",
   "execution_count": null,
   "metadata": {},
   "outputs": [],
   "source": [
    "# mat = np.zeros((130,130))\n",
    "# for i in range(130):\n",
    "#     for j in range(130):\n",
    "#         mean = 0\n",
    "#         for s in range(len(seqs_al)):\n",
    "#             mean += attentions_list[s][i,j]\n",
    "#         mean = mean/len(seqs_al)\n",
    "#         mat[i,j] = mean\n",
    "#         print(i,j)"
   ]
  },
  {
   "cell_type": "code",
   "execution_count": null,
   "metadata": {},
   "outputs": [],
   "source": [
    "plt.imshow(mat)"
   ]
  },
  {
   "cell_type": "code",
   "execution_count": null,
   "metadata": {
    "tags": []
   },
   "outputs": [],
   "source": [
    "ref = 12 # example VH 1\n",
    "# ref=1584/1571 # example VH 2\n",
    "# ref = 370 # PDB: 7KFX"
   ]
  }
 ],
 "metadata": {
  "kernelspec": {
   "display_name": "Python [conda env:antiberv]",
   "language": "python",
   "name": "conda-env-antiberv-py"
  },
  "language_info": {
   "codemirror_mode": {
    "name": "ipython",
    "version": 3
   },
   "file_extension": ".py",
   "mimetype": "text/x-python",
   "name": "python",
   "nbconvert_exporter": "python",
   "pygments_lexer": "ipython3",
   "version": "3.9.17"
  }
 },
 "nbformat": 4,
 "nbformat_minor": 4
}
